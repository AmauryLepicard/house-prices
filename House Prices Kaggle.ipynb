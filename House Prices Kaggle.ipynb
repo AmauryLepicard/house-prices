{
 "cells": [
  {
   "cell_type": "markdown",
   "metadata": {},
   "source": [
    "# Kaggle House Prices"
   ]
  },
  {
   "cell_type": "markdown",
   "metadata": {},
   "source": [
    "## Initialization & utility functions"
   ]
  },
  {
   "cell_type": "code",
   "execution_count": 1,
   "metadata": {
    "ExecuteTime": {
     "end_time": "2018-04-06T13:44:56.053346Z",
     "start_time": "2018-04-06T13:44:54.855771Z"
    }
   },
   "outputs": [],
   "source": [
    "%matplotlib inline\n",
    "import pandas as pd\n",
    "import numpy as np\n",
    "import matplotlib.pyplot as plt\n",
    "import seaborn as sb\n",
    "\n",
    "from sklearn import model_selection as ms\n",
    "from sklearn import preprocessing\n",
    "from sklearn.metrics import mean_squared_error, r2_score\n",
    "\n",
    "from sklearn.ensemble import ExtraTreesRegressor, GradientBoostingRegressor, RandomForestRegressor\n",
    "from sklearn.linear_model import LinearRegression, Lasso, Ridge, SGDRegressor, RidgeCV, ElasticNetCV\n",
    "from sklearn.naive_bayes import GaussianNB\n",
    "from sklearn.tree import DecisionTreeRegressor\n",
    "\n",
    "from pandas.api.types import CategoricalDtype"
   ]
  },
  {
   "cell_type": "code",
   "execution_count": 2,
   "metadata": {
    "ExecuteTime": {
     "end_time": "2018-04-06T13:44:56.227801Z",
     "start_time": "2018-04-06T13:44:56.131545Z"
    }
   },
   "outputs": [
    {
     "data": {
      "text/html": [
       "<div>\n",
       "<style scoped>\n",
       "    .dataframe tbody tr th:only-of-type {\n",
       "        vertical-align: middle;\n",
       "    }\n",
       "\n",
       "    .dataframe tbody tr th {\n",
       "        vertical-align: top;\n",
       "    }\n",
       "\n",
       "    .dataframe thead th {\n",
       "        text-align: right;\n",
       "    }\n",
       "</style>\n",
       "<table border=\"1\" class=\"dataframe\">\n",
       "  <thead>\n",
       "    <tr style=\"text-align: right;\">\n",
       "      <th></th>\n",
       "      <th>MSSubClass</th>\n",
       "      <th>MSZoning</th>\n",
       "      <th>LotFrontage</th>\n",
       "      <th>LotArea</th>\n",
       "      <th>Street</th>\n",
       "      <th>Alley</th>\n",
       "      <th>LotShape</th>\n",
       "      <th>LandContour</th>\n",
       "      <th>Utilities</th>\n",
       "      <th>LotConfig</th>\n",
       "      <th>...</th>\n",
       "      <th>PoolArea</th>\n",
       "      <th>PoolQC</th>\n",
       "      <th>Fence</th>\n",
       "      <th>MiscFeature</th>\n",
       "      <th>MiscVal</th>\n",
       "      <th>MoSold</th>\n",
       "      <th>YrSold</th>\n",
       "      <th>SaleType</th>\n",
       "      <th>SaleCondition</th>\n",
       "      <th>SalePrice</th>\n",
       "    </tr>\n",
       "    <tr>\n",
       "      <th>Id</th>\n",
       "      <th></th>\n",
       "      <th></th>\n",
       "      <th></th>\n",
       "      <th></th>\n",
       "      <th></th>\n",
       "      <th></th>\n",
       "      <th></th>\n",
       "      <th></th>\n",
       "      <th></th>\n",
       "      <th></th>\n",
       "      <th></th>\n",
       "      <th></th>\n",
       "      <th></th>\n",
       "      <th></th>\n",
       "      <th></th>\n",
       "      <th></th>\n",
       "      <th></th>\n",
       "      <th></th>\n",
       "      <th></th>\n",
       "      <th></th>\n",
       "      <th></th>\n",
       "    </tr>\n",
       "  </thead>\n",
       "  <tbody>\n",
       "    <tr>\n",
       "      <th>1</th>\n",
       "      <td>60</td>\n",
       "      <td>RL</td>\n",
       "      <td>65.0</td>\n",
       "      <td>8450</td>\n",
       "      <td>Pave</td>\n",
       "      <td>NaN</td>\n",
       "      <td>Reg</td>\n",
       "      <td>Lvl</td>\n",
       "      <td>AllPub</td>\n",
       "      <td>Inside</td>\n",
       "      <td>...</td>\n",
       "      <td>0</td>\n",
       "      <td>NaN</td>\n",
       "      <td>NaN</td>\n",
       "      <td>NaN</td>\n",
       "      <td>0</td>\n",
       "      <td>2</td>\n",
       "      <td>2008</td>\n",
       "      <td>WD</td>\n",
       "      <td>Normal</td>\n",
       "      <td>208500</td>\n",
       "    </tr>\n",
       "    <tr>\n",
       "      <th>2</th>\n",
       "      <td>20</td>\n",
       "      <td>RL</td>\n",
       "      <td>80.0</td>\n",
       "      <td>9600</td>\n",
       "      <td>Pave</td>\n",
       "      <td>NaN</td>\n",
       "      <td>Reg</td>\n",
       "      <td>Lvl</td>\n",
       "      <td>AllPub</td>\n",
       "      <td>FR2</td>\n",
       "      <td>...</td>\n",
       "      <td>0</td>\n",
       "      <td>NaN</td>\n",
       "      <td>NaN</td>\n",
       "      <td>NaN</td>\n",
       "      <td>0</td>\n",
       "      <td>5</td>\n",
       "      <td>2007</td>\n",
       "      <td>WD</td>\n",
       "      <td>Normal</td>\n",
       "      <td>181500</td>\n",
       "    </tr>\n",
       "    <tr>\n",
       "      <th>3</th>\n",
       "      <td>60</td>\n",
       "      <td>RL</td>\n",
       "      <td>68.0</td>\n",
       "      <td>11250</td>\n",
       "      <td>Pave</td>\n",
       "      <td>NaN</td>\n",
       "      <td>IR1</td>\n",
       "      <td>Lvl</td>\n",
       "      <td>AllPub</td>\n",
       "      <td>Inside</td>\n",
       "      <td>...</td>\n",
       "      <td>0</td>\n",
       "      <td>NaN</td>\n",
       "      <td>NaN</td>\n",
       "      <td>NaN</td>\n",
       "      <td>0</td>\n",
       "      <td>9</td>\n",
       "      <td>2008</td>\n",
       "      <td>WD</td>\n",
       "      <td>Normal</td>\n",
       "      <td>223500</td>\n",
       "    </tr>\n",
       "    <tr>\n",
       "      <th>4</th>\n",
       "      <td>70</td>\n",
       "      <td>RL</td>\n",
       "      <td>60.0</td>\n",
       "      <td>9550</td>\n",
       "      <td>Pave</td>\n",
       "      <td>NaN</td>\n",
       "      <td>IR1</td>\n",
       "      <td>Lvl</td>\n",
       "      <td>AllPub</td>\n",
       "      <td>Corner</td>\n",
       "      <td>...</td>\n",
       "      <td>0</td>\n",
       "      <td>NaN</td>\n",
       "      <td>NaN</td>\n",
       "      <td>NaN</td>\n",
       "      <td>0</td>\n",
       "      <td>2</td>\n",
       "      <td>2006</td>\n",
       "      <td>WD</td>\n",
       "      <td>Abnorml</td>\n",
       "      <td>140000</td>\n",
       "    </tr>\n",
       "    <tr>\n",
       "      <th>5</th>\n",
       "      <td>60</td>\n",
       "      <td>RL</td>\n",
       "      <td>84.0</td>\n",
       "      <td>14260</td>\n",
       "      <td>Pave</td>\n",
       "      <td>NaN</td>\n",
       "      <td>IR1</td>\n",
       "      <td>Lvl</td>\n",
       "      <td>AllPub</td>\n",
       "      <td>FR2</td>\n",
       "      <td>...</td>\n",
       "      <td>0</td>\n",
       "      <td>NaN</td>\n",
       "      <td>NaN</td>\n",
       "      <td>NaN</td>\n",
       "      <td>0</td>\n",
       "      <td>12</td>\n",
       "      <td>2008</td>\n",
       "      <td>WD</td>\n",
       "      <td>Normal</td>\n",
       "      <td>250000</td>\n",
       "    </tr>\n",
       "  </tbody>\n",
       "</table>\n",
       "<p>5 rows × 80 columns</p>\n",
       "</div>"
      ],
      "text/plain": [
       "    MSSubClass MSZoning  LotFrontage  LotArea Street Alley LotShape  \\\n",
       "Id                                                                    \n",
       "1           60       RL         65.0     8450   Pave   NaN      Reg   \n",
       "2           20       RL         80.0     9600   Pave   NaN      Reg   \n",
       "3           60       RL         68.0    11250   Pave   NaN      IR1   \n",
       "4           70       RL         60.0     9550   Pave   NaN      IR1   \n",
       "5           60       RL         84.0    14260   Pave   NaN      IR1   \n",
       "\n",
       "   LandContour Utilities LotConfig    ...     PoolArea PoolQC Fence  \\\n",
       "Id                                    ...                             \n",
       "1          Lvl    AllPub    Inside    ...            0    NaN   NaN   \n",
       "2          Lvl    AllPub       FR2    ...            0    NaN   NaN   \n",
       "3          Lvl    AllPub    Inside    ...            0    NaN   NaN   \n",
       "4          Lvl    AllPub    Corner    ...            0    NaN   NaN   \n",
       "5          Lvl    AllPub       FR2    ...            0    NaN   NaN   \n",
       "\n",
       "   MiscFeature MiscVal MoSold  YrSold  SaleType  SaleCondition  SalePrice  \n",
       "Id                                                                         \n",
       "1          NaN       0      2    2008        WD         Normal     208500  \n",
       "2          NaN       0      5    2007        WD         Normal     181500  \n",
       "3          NaN       0      9    2008        WD         Normal     223500  \n",
       "4          NaN       0      2    2006        WD        Abnorml     140000  \n",
       "5          NaN       0     12    2008        WD         Normal     250000  \n",
       "\n",
       "[5 rows x 80 columns]"
      ]
     },
     "execution_count": 2,
     "metadata": {},
     "output_type": "execute_result"
    }
   ],
   "source": [
    "df_train_raw = pd.read_csv('train.csv', index_col=0)\n",
    "df_test_raw = pd.read_csv('test.csv', index_col=0)\n",
    "df_train = df_train_raw.copy()\n",
    "df_train.head()"
   ]
  },
  {
   "cell_type": "code",
   "execution_count": 3,
   "metadata": {
    "ExecuteTime": {
     "end_time": "2018-04-06T13:44:57.260108Z",
     "start_time": "2018-04-06T13:44:57.228023Z"
    }
   },
   "outputs": [],
   "source": [
    "# create ordinal mappings\n",
    "\n",
    "qualMapping = {'NA':-1, 'Po':0, 'Fa':1, 'TA':2, 'Gd':3, 'Ex':4}\n",
    "expMapping = {'NA':-1, 'No':0, 'Mn':1, 'Av':2, 'Gd':3}\n",
    "bsmtMapping = {'GLQ':5,'ALQ':5,'BLQ':4,'Rec':3,'LwQ':2,'Unf':1,'NA':0}\n",
    "finishMapping = {'NA':-1, 'Unf':0, 'RFn':1, 'Fin':2}\n",
    "pvmtMapping = {'N':-1, 'P':0, 'Y':2}\n",
    "\n",
    "mappings = {}\n",
    "mappings['ExterQual'] = qualMapping\n",
    "mappings['ExterCond'] = qualMapping\n",
    "mappings['BsmtExposure'] = expMapping\n",
    "mappings['BsmtFinType1'] = bsmtMapping\n",
    "mappings['BsmtFinType2'] = bsmtMapping\n",
    "mappings['BsmtQual'] = qualMapping\n",
    "mappings['BsmtCond'] = qualMapping\n",
    "mappings['HeatingQC'] = qualMapping\n",
    "mappings['KitchenQual'] = \n",
    "\n",
    "mappings['FireplaceQu'] = qualMapping\n",
    "mappings['GarageFinish'] = finishMapping\n",
    "mappings['GarageQual'] = qualMapping\n",
    "mappings['GarageCond'] = qualMapping\n",
    "mappings['PavedDrive'] = pvmtMapping\n",
    "mappings['PoolQC'] = qualMapping\n"
   ]
  },
  {
   "cell_type": "code",
   "execution_count": 25,
   "metadata": {
    "ExecuteTime": {
     "end_time": "2018-04-06T14:14:04.111272Z",
     "start_time": "2018-04-06T14:14:03.002772Z"
    },
    "code_folding": []
   },
   "outputs": [
    {
     "name": "stdout",
     "output_type": "stream",
     "text": [
      "MSSubClass      int64     : One-Hot, generate one-hot encoding\n",
      "MSZoning        object    : One-Hot, generate one-hot encoding\n",
      "LotFrontage     float64   : Numeric, add missing values, nothing more to do\n",
      "LotArea         int64     : Numeric, add missing values, nothing more to do\n",
      "Street          object    : One-Hot, generate one-hot encoding\n",
      "Alley           object    : One-Hot, generate one-hot encoding\n",
      "LotShape        object    : One-Hot, generate one-hot encoding\n",
      "LandContour     object    : One-Hot, generate one-hot encoding\n",
      "Utilities       object    : Utilities, only 2 values, convert to boolean\n",
      "LotConfig       object    : One-Hot, generate one-hot encoding\n",
      "LandSlope       object    : One-Hot, generate one-hot encoding\n",
      "Neighborhood    object    : One-Hot, generate one-hot encoding\n",
      "Condition1      object    Condition2      object    BldgType        object    : One-Hot, generate one-hot encoding\n",
      "HouseStyle      object    : One-Hot, generate one-hot encoding\n",
      "OverallQual     int64     : Categorical as numeric, don't change anything\n",
      "OverallCond     int64     : Categorical as numeric, don't change anything\n",
      "YearBuilt       int64     : Datetime, keep as float for regression\n",
      "YearRemodAdd    int64     : Datetime, keep as float for regression\n",
      "RoofStyle       object    : One-Hot, generate one-hot encoding\n",
      "RoofMatl        object    : One-Hot, generate one-hot encoding\n",
      "Exterior1st     object    : One-Hot, generate one-hot encoding\n",
      "Exterior2nd     object    : One-Hot, generate one-hot encoding\n",
      "MasVnrType      object    : One-Hot, generate one-hot encoding\n",
      "MasVnrArea      float64   : Numeric, add missing values, nothing more to do\n",
      "ExterQual       object    : Categorical, convert to category codes\n",
      "ExterCond       object    : Categorical, convert to category codes\n",
      "Foundation      object    : One-Hot, generate one-hot encoding\n",
      "BsmtQual        object    : Categorical, convert to category codes\n",
      "BsmtCond        object    : Categorical, convert to category codes\n",
      "BsmtExposure    object    : Categorical, convert to category codes\n",
      "BsmtFinType1    object    : Categorical, convert to category codes\n",
      "BsmtFinSF1      int64     : Numeric, add missing values, nothing more to do\n",
      "BsmtFinType2    object    : Categorical, convert to category codes\n",
      "BsmtFinSF2      int64     : Numeric, add missing values, nothing more to do\n",
      "BsmtUnfSF       int64     : Numeric, add missing values, nothing more to do\n",
      "TotalBsmtSF     int64     : Numeric, add missing values, nothing more to do\n",
      "Heating         object    : One-Hot, generate one-hot encoding\n",
      "HeatingQC       object    : Categorical, convert to category codes\n",
      "CentralAir      object    : One-Hot, generate one-hot encoding\n",
      "Electrical      object    : One-Hot, generate one-hot encoding\n",
      "1stFlrSF        int64     : Numeric, add missing values, nothing more to do\n",
      "2ndFlrSF        int64     : Numeric, add missing values, nothing more to do\n",
      "LowQualFinSF    int64     : Numeric, add missing values, nothing more to do\n",
      "GrLivArea       int64     : Numeric, add missing values, nothing more to do\n",
      "BsmtFullBath    int64     : Categorical as numeric, don't change anything\n",
      "BsmtHalfBath    int64     : Categorical as numeric, don't change anything\n",
      "FullBath        int64     : Categorical as numeric, don't change anything\n",
      "HalfBath        int64     : Categorical as numeric, don't change anything\n",
      "BedroomAbvGr    int64     : Numeric, add missing values, nothing more to do\n",
      "KitchenAbvGr    int64     : Numeric, add missing values, nothing more to do\n",
      "KitchenQual     object    : Categorical, convert to category codes\n",
      "TotRmsAbvGrd    int64     : Numeric, add missing values, nothing more to do\n",
      "Functional      object    : One-Hot, generate one-hot encoding\n",
      "Fireplaces      int64     : Numeric, add missing values, nothing more to do\n",
      "FireplaceQu     object    : Categorical, convert to category codes\n",
      "GarageType      object    : One-Hot, generate one-hot encoding\n",
      "GarageYrBlt     float64   : Numeric, add missing values, nothing more to do\n",
      "GarageFinish    object    : Categorical, convert to category codes\n",
      "GarageCars      int64     : Categorical as numeric, don't change anything\n",
      "GarageArea      int64     : Numeric, add missing values, nothing more to do\n",
      "GarageQual      object    : Categorical, convert to category codes\n",
      "GarageCond      object    : Categorical, convert to category codes\n",
      "PavedDrive      object    : One-Hot, generate one-hot encoding\n",
      "WoodDeckSF      int64     : Numeric, add missing values, nothing more to do\n",
      "OpenPorchSF     int64     : Numeric, add missing values, nothing more to do\n",
      "EnclosedPorch   int64     : Numeric, add missing values, nothing more to do\n",
      "3SsnPorch       int64     : Numeric, add missing values, nothing more to do\n",
      "ScreenPorch     int64     : Numeric, add missing values, nothing more to do\n",
      "PoolArea        int64     : Numeric, add missing values, nothing more to do\n",
      "PoolQC          object    : Categorical, convert to category codes\n",
      "Fence           object    : One-Hot, generate one-hot encoding\n",
      "MiscFeature     object    : Misc Feature, one-hot encoding\n",
      "MiscVal         int64     : Numeric, add missing values, nothing more to do\n",
      "SaleType        object    : One-Hot, generate one-hot encoding\n",
      "SaleCondition   object    : One-Hot, generate one-hot encoding\n",
      "SalePrice       int64     : Target feature, Don't change it!!!\n",
      "DateSold        float64   : Datetime, keep as float for regression\n"
     ]
    },
    {
     "data": {
      "text/html": [
       "<div>\n",
       "<style scoped>\n",
       "    .dataframe tbody tr th:only-of-type {\n",
       "        vertical-align: middle;\n",
       "    }\n",
       "\n",
       "    .dataframe tbody tr th {\n",
       "        vertical-align: top;\n",
       "    }\n",
       "\n",
       "    .dataframe thead th {\n",
       "        text-align: right;\n",
       "    }\n",
       "</style>\n",
       "<table border=\"1\" class=\"dataframe\">\n",
       "  <thead>\n",
       "    <tr style=\"text-align: right;\">\n",
       "      <th></th>\n",
       "      <th>LotFrontage</th>\n",
       "      <th>LotArea</th>\n",
       "      <th>OverallQual</th>\n",
       "      <th>OverallCond</th>\n",
       "      <th>YearBuilt</th>\n",
       "      <th>YearRemodAdd</th>\n",
       "      <th>MasVnrArea</th>\n",
       "      <th>TotalBsmtSF</th>\n",
       "      <th>LowQualFinSF</th>\n",
       "      <th>GrLivArea</th>\n",
       "      <th>...</th>\n",
       "      <th>SaleType=ConLw</th>\n",
       "      <th>SaleType=New</th>\n",
       "      <th>SaleType=Oth</th>\n",
       "      <th>SaleType=WD</th>\n",
       "      <th>SaleCondition=Abnorml</th>\n",
       "      <th>SaleCondition=AdjLand</th>\n",
       "      <th>SaleCondition=Alloca</th>\n",
       "      <th>SaleCondition=Family</th>\n",
       "      <th>SaleCondition=Normal</th>\n",
       "      <th>SaleCondition=Partial</th>\n",
       "    </tr>\n",
       "    <tr>\n",
       "      <th>Id</th>\n",
       "      <th></th>\n",
       "      <th></th>\n",
       "      <th></th>\n",
       "      <th></th>\n",
       "      <th></th>\n",
       "      <th></th>\n",
       "      <th></th>\n",
       "      <th></th>\n",
       "      <th></th>\n",
       "      <th></th>\n",
       "      <th></th>\n",
       "      <th></th>\n",
       "      <th></th>\n",
       "      <th></th>\n",
       "      <th></th>\n",
       "      <th></th>\n",
       "      <th></th>\n",
       "      <th></th>\n",
       "      <th></th>\n",
       "      <th></th>\n",
       "      <th></th>\n",
       "    </tr>\n",
       "  </thead>\n",
       "  <tbody>\n",
       "    <tr>\n",
       "      <th>1</th>\n",
       "      <td>-0.207948</td>\n",
       "      <td>-0.207071</td>\n",
       "      <td>7</td>\n",
       "      <td>5</td>\n",
       "      <td>2003</td>\n",
       "      <td>2003</td>\n",
       "      <td>0.509840</td>\n",
       "      <td>-0.459145</td>\n",
       "      <td>-0.120201</td>\n",
       "      <td>0.370207</td>\n",
       "      <td>...</td>\n",
       "      <td>0</td>\n",
       "      <td>0</td>\n",
       "      <td>0</td>\n",
       "      <td>1</td>\n",
       "      <td>0</td>\n",
       "      <td>0</td>\n",
       "      <td>0</td>\n",
       "      <td>0</td>\n",
       "      <td>1</td>\n",
       "      <td>0</td>\n",
       "    </tr>\n",
       "    <tr>\n",
       "      <th>2</th>\n",
       "      <td>0.409724</td>\n",
       "      <td>-0.091855</td>\n",
       "      <td>6</td>\n",
       "      <td>8</td>\n",
       "      <td>1976</td>\n",
       "      <td>1976</td>\n",
       "      <td>-0.572637</td>\n",
       "      <td>0.466305</td>\n",
       "      <td>-0.120201</td>\n",
       "      <td>-0.482347</td>\n",
       "      <td>...</td>\n",
       "      <td>0</td>\n",
       "      <td>0</td>\n",
       "      <td>0</td>\n",
       "      <td>1</td>\n",
       "      <td>0</td>\n",
       "      <td>0</td>\n",
       "      <td>0</td>\n",
       "      <td>0</td>\n",
       "      <td>1</td>\n",
       "      <td>0</td>\n",
       "    </tr>\n",
       "    <tr>\n",
       "      <th>3</th>\n",
       "      <td>-0.084413</td>\n",
       "      <td>0.073455</td>\n",
       "      <td>7</td>\n",
       "      <td>5</td>\n",
       "      <td>2001</td>\n",
       "      <td>2002</td>\n",
       "      <td>0.322063</td>\n",
       "      <td>-0.313261</td>\n",
       "      <td>-0.120201</td>\n",
       "      <td>0.514836</td>\n",
       "      <td>...</td>\n",
       "      <td>0</td>\n",
       "      <td>0</td>\n",
       "      <td>0</td>\n",
       "      <td>1</td>\n",
       "      <td>0</td>\n",
       "      <td>0</td>\n",
       "      <td>0</td>\n",
       "      <td>0</td>\n",
       "      <td>1</td>\n",
       "      <td>0</td>\n",
       "    </tr>\n",
       "    <tr>\n",
       "      <th>4</th>\n",
       "      <td>-0.413838</td>\n",
       "      <td>-0.096864</td>\n",
       "      <td>7</td>\n",
       "      <td>5</td>\n",
       "      <td>1915</td>\n",
       "      <td>1970</td>\n",
       "      <td>-0.572637</td>\n",
       "      <td>-0.687089</td>\n",
       "      <td>-0.120201</td>\n",
       "      <td>0.383528</td>\n",
       "      <td>...</td>\n",
       "      <td>0</td>\n",
       "      <td>0</td>\n",
       "      <td>0</td>\n",
       "      <td>1</td>\n",
       "      <td>1</td>\n",
       "      <td>0</td>\n",
       "      <td>0</td>\n",
       "      <td>0</td>\n",
       "      <td>0</td>\n",
       "      <td>0</td>\n",
       "    </tr>\n",
       "    <tr>\n",
       "      <th>5</th>\n",
       "      <td>0.574436</td>\n",
       "      <td>0.375020</td>\n",
       "      <td>8</td>\n",
       "      <td>5</td>\n",
       "      <td>2000</td>\n",
       "      <td>2000</td>\n",
       "      <td>1.360357</td>\n",
       "      <td>0.199611</td>\n",
       "      <td>-0.120201</td>\n",
       "      <td>1.298881</td>\n",
       "      <td>...</td>\n",
       "      <td>0</td>\n",
       "      <td>0</td>\n",
       "      <td>0</td>\n",
       "      <td>1</td>\n",
       "      <td>0</td>\n",
       "      <td>0</td>\n",
       "      <td>0</td>\n",
       "      <td>0</td>\n",
       "      <td>1</td>\n",
       "      <td>0</td>\n",
       "    </tr>\n",
       "  </tbody>\n",
       "</table>\n",
       "<p>5 rows × 232 columns</p>\n",
       "</div>"
      ],
      "text/plain": [
       "    LotFrontage   LotArea  OverallQual  OverallCond  YearBuilt  YearRemodAdd  \\\n",
       "Id                                                                             \n",
       "1     -0.207948 -0.207071            7            5       2003          2003   \n",
       "2      0.409724 -0.091855            6            8       1976          1976   \n",
       "3     -0.084413  0.073455            7            5       2001          2002   \n",
       "4     -0.413838 -0.096864            7            5       1915          1970   \n",
       "5      0.574436  0.375020            8            5       2000          2000   \n",
       "\n",
       "    MasVnrArea  TotalBsmtSF  LowQualFinSF  GrLivArea          ...            \\\n",
       "Id                                                            ...             \n",
       "1     0.509840    -0.459145     -0.120201   0.370207          ...             \n",
       "2    -0.572637     0.466305     -0.120201  -0.482347          ...             \n",
       "3     0.322063    -0.313261     -0.120201   0.514836          ...             \n",
       "4    -0.572637    -0.687089     -0.120201   0.383528          ...             \n",
       "5     1.360357     0.199611     -0.120201   1.298881          ...             \n",
       "\n",
       "    SaleType=ConLw  SaleType=New  SaleType=Oth  SaleType=WD  \\\n",
       "Id                                                            \n",
       "1                0             0             0            1   \n",
       "2                0             0             0            1   \n",
       "3                0             0             0            1   \n",
       "4                0             0             0            1   \n",
       "5                0             0             0            1   \n",
       "\n",
       "    SaleCondition=Abnorml  SaleCondition=AdjLand  SaleCondition=Alloca  \\\n",
       "Id                                                                       \n",
       "1                       0                      0                     0   \n",
       "2                       0                      0                     0   \n",
       "3                       0                      0                     0   \n",
       "4                       1                      0                     0   \n",
       "5                       0                      0                     0   \n",
       "\n",
       "    SaleCondition=Family  SaleCondition=Normal  SaleCondition=Partial  \n",
       "Id                                                                     \n",
       "1                      0                     1                      0  \n",
       "2                      0                     1                      0  \n",
       "3                      0                     1                      0  \n",
       "4                      0                     0                      0  \n",
       "5                      0                     1                      0  \n",
       "\n",
       "[5 rows x 232 columns]"
      ]
     },
     "execution_count": 25,
     "metadata": {},
     "output_type": "execute_result"
    }
   ],
   "source": [
    "# drop redundant or useless columns\n",
    "uselessColumns = set([\"BsmtFinSF1\", \"BsmtFinSF2\", \"BsmtUnfSF\", \"1stFlrSF\", \"2ndFlrSF\",'Condition1', 'Condition2'])\n",
    "\n",
    "oneHotCategoryColumns = set([\"MSSubClass\", \"MSZoning\", \"Street\", \"Alley\", \"LotShape\", \"LandContour\",\n",
    "                            \"LotConfig\", \"LandSlope\", \"Neighborhood\", \"HouseStyle\", \"RoofStyle\",\n",
    "                            \"RoofMatl\", \"Exterior1st\", \"Exterior2nd\", \"MasVnrType\", \"Foundation\",\n",
    "                            \"Heating\", \"CentralAir\", \"Electrical\", \"GarageType\", \"PavedDrive\",\n",
    "                            \"SaleType\", \"SaleCondition\", \"BldgType\", \"Fence\", \"Functional\"])\n",
    "\n",
    "ordinalCategoryColumns = set([\"ExterQual\", \"ExterCond\", \"BsmtQual\",\n",
    "                            \"BsmtCond\", \"BsmtExposure\", \"BsmtFinType2\", \"HeatingQC\", \"KitchenQual\",\n",
    "                            \"FireplaceQu\", \"GarageFinish\", \"GarageQual\", \"GarageCond\", \"PoolQC\",\n",
    "                            \"BsmtFinType1\"])\n",
    "\n",
    "numericCategoryColumns = set([\"OverallQual\", \"OverallCond\", \"GarageCars\", \"BsmtFullBath\", \"BsmtHalfBath\", \"FullBath\", \"HalfBath\"])\n",
    "\n",
    "specificOneHotColumns = set([\"Utilities\", \"Condition1\", \"Condition2\", \"MiscFeature\", \"PoolArea\", \"Neighborhood\"])\n",
    "\n",
    "numericColumns = set([\"LotFrontage\", \"LotArea\", \"MasVnrArea\", \"BsmtFinSF1\", \"BsmtFinSF2\",\n",
    "                    \"BsmtUnfSF\", \"TotalBsmtSF\", \"1stFlrSF\", \"2ndFlrSF\", \"LowQualFinSF\",\n",
    "                    \"GrLivArea\", \"BedroomAbvGr\", \"KitchenAbvGr\", \"TotRmsAbvGrd\", \"Fireplaces\",\n",
    "                    \"GarageYrBlt\", \"GarageArea\", \"WoodDeckSF\", \"OpenPorchSF\",\n",
    "                    \"EnclosedPorch\", \"3SsnPorch\", \"ScreenPorch\", \"PoolArea\", \"MiscVal\"])\n",
    "\n",
    "dateTimeColumns = set([\"YearBuilt\", \"YearRemodAdd\", 'DateSold'])\n",
    "\n",
    "from numbers import Number\n",
    "def cleanData(dataframe, verbose=False, dropUseless=True):\n",
    "    df = dataframe.copy()\n",
    "    for col in df.columns:\n",
    "        if verbose : print(col.ljust(15), str(df[col].dtype).ljust(10), end=\"\")\n",
    "        if dataframe[col].dtype in (int, float):\n",
    "            if verbose : print(\": Numeric, add missing values\")\n",
    "            df.loc[:, col] = (df[col] - df[col].mean()) / df[col].std()\n",
    "            df.loc[:, col] = df[col].interpolate(method='akima')\n",
    "\n",
    "        else :\n",
    "            if verbose : print(\": Not a number, fill with None\")\n",
    "            df[col].fillna(\"None\", inplace=True)\n",
    "    return df\n",
    "\n",
    "def preprocessData(dataframe, verbose=False, dropUseless=True):\n",
    "    df = dataframe.copy()\n",
    "    # modify date column\n",
    "    if 'YrSold' in df.columns and 'MoSold' in df.columns:\n",
    "        df.loc[:, 'DateSold'] = df['YrSold'] + df['MoSold'] / 12.0\n",
    "        df.drop(['YrSold', 'MoSold'], inplace=True, axis=1)\n",
    "\n",
    "    # convert one-hot columns\n",
    "    for col in df.columns:\n",
    "        if verbose : print(col.ljust(15), str(df[col].dtype).ljust(10), end=\"\")\n",
    "        if col == \"SalePrice\":\n",
    "            if verbose : print(\": Target feature, Don't change it!!!\")\n",
    "        \n",
    "        # create category\n",
    "        elif col in ordinalCategoryColumns:\n",
    "            if verbose : print(\": Categorical, convert to category codes\")\n",
    "                \n",
    "            catList = list(mappings[col].keys())\n",
    "            catType = CategoricalDtype(categories=catList, ordered=True)\n",
    "            df.loc[:, col] = df[col].astype(catType)\n",
    "            df[col + \"Code\"] = df[col].cat.codes\n",
    "            df.drop(col, axis=1, inplace=True)\n",
    "                \n",
    "#            df.loc[:, col] = df[col].fillna('None')\n",
    "#            df.loc[:, col] = df[col].astype('category')\n",
    "#            df[col + \"Code\"] = df[col].cat.codes\n",
    "#            df.drop(col, axis=1, inplace=True)\n",
    "\n",
    "        elif col in numericCategoryColumns:\n",
    "            if verbose : print(\": Categorical as numeric, don't change anything\")\n",
    " \n",
    "        # one hot encoding\n",
    "        elif col in oneHotCategoryColumns:\n",
    "            if verbose : print(\": One-Hot, generate one-hot encoding\")\n",
    "            df = pd.concat([df,pd.get_dummies(df[col], prefix=col, prefix_sep=\"=\")],axis=1)\n",
    "            df.drop(col, axis=1, inplace=True)\n",
    "\n",
    "        # numeric values, nothing to do\n",
    "        elif col in numericColumns:\n",
    "            if verbose : print(\": Numeric, add missing values, nothing more to do\")\n",
    "            df.loc[:, col] = (df[col] - df[col].mean()) / df[col].std()\n",
    "            df.loc[:, col] = df[col].interpolate(method='akima')\n",
    "\n",
    "        elif col in specificOneHotColumns:\n",
    "        # specific columns\n",
    "            if col == \"MiscFeature\":\n",
    "                if verbose : print(\": Misc Feature, one-hot encoding\")\n",
    "                df[col].fillna(\"None\", inplace=True)\n",
    "                df = pd.concat([df,pd.get_dummies(df[col], prefix=col, prefix_sep=\"=\")],axis=1)\n",
    "                df.drop(col, axis=1, inplace=True)\n",
    "\n",
    "            # specific colum, only 2 values so kept as a boolean column\n",
    "            elif col == \"Utilities\":  #'AllPub', 'NoSeWa' just boolean\n",
    "                if verbose : print(\": Utilities, only 2 values, convert to boolean\")\n",
    "                df[col].fillna(\"None\")\n",
    "                df = pd.concat([df,pd.get_dummies(df[col], prefix=col, prefix_sep=\"=\")],axis=1)\n",
    "                df.drop(col, axis=1, inplace=True)\n",
    "            \n",
    "            elif col == \"PoolArea\":\n",
    "                df[col].fillna(0.0)\n",
    "                df[\"HasPool\"] = df[col] > 0.0            \n",
    "\n",
    "        elif col in dateTimeColumns:\n",
    "            if verbose : print(\": Datetime, keep as float for regression\")\n",
    "        else:\n",
    "            if verbose : print(\": UNKNOWN\")\n",
    "\n",
    "    # drop useless columns\n",
    "    if dropUseless : df.drop(uselessColumns, axis=1, inplace=True)\n",
    "    return df\n",
    "\n",
    "df_train = df_train_raw.copy()\n",
    "df_train = preprocessData(df_train, verbose = True)\n",
    "df_train.head()"
   ]
  },
  {
   "cell_type": "code",
   "execution_count": 18,
   "metadata": {
    "ExecuteTime": {
     "end_time": "2018-04-06T14:12:04.355789Z",
     "start_time": "2018-04-06T14:12:03.545951Z"
    }
   },
   "outputs": [
    {
     "name": "stdout",
     "output_type": "stream",
     "text": [
      "LinearRegression               [0.78658694 0.75766871 0.759937   0.74717044 0.61176451] Accuracy: 0.73 (+/- 0.12)\n",
      "RidgeCV                        [0.78642301 0.7578579  0.75916488 0.74739219 0.61350233] Accuracy: 0.73 (+/- 0.12)\n",
      "Lasso                          [0.78658595 0.7576691  0.75993226 0.74717046 0.61177336] Accuracy: 0.73 (+/- 0.12)\n",
      "ElasticNetCV                   [0.04708509 0.04650564 0.03840331 0.03073902 0.04395478] Accuracy: 0.04 (+/- 0.01)\n",
      "DecisionTreeRegressor          [0.64947056 0.55881725 0.76864176 0.73580699 0.69095963] Accuracy: 0.68 (+/- 0.15)\n",
      "GradientBoostingRegressor      [0.78943192 0.71356785 0.85764907 0.82375851 0.83762926] Accuracy: 0.80 (+/- 0.10)\n",
      "RandomForestRegressor          [0.77519241 0.67696152 0.82765136 0.80364818 0.76909795] Accuracy: 0.77 (+/- 0.10)\n"
     ]
    }
   ],
   "source": [
    "def testModels(dataframe, features, targetFeature):\n",
    "    models = [LinearRegression(),\n",
    "              RidgeCV(alphas=[0.1, 1.0, 10.0]),\n",
    "              Lasso(alpha=1.0),\n",
    "              ElasticNetCV(cv=5),\n",
    "              #SGDRegressor(max_iter=5, tol=None),\n",
    "              #GaussianNB(),\n",
    "              DecisionTreeRegressor(),\n",
    "              GradientBoostingRegressor(learning_rate=0.1, n_estimators = 100),\n",
    "              RandomForestRegressor()]\n",
    "\n",
    "    # preparing X and Y before split\n",
    "    X_all = dataframe[features]\n",
    "    Y_all = dataframe[targetFeature]\n",
    "    X_train, X_valid, Y_train, Y_valid = ms.train_test_split(X_all, Y_all, test_size=0.20)\n",
    "\n",
    "    modelScores = {}\n",
    "    for i, mod in enumerate(models):\n",
    "        # cross validation\n",
    "        scores = ms.cross_val_score(mod, X_all, Y_all, cv=5)\n",
    "        print(mod.__class__.__name__.ljust(30), scores,\"Accuracy: %0.2f (+/- %0.2f)\" % (scores.mean(), scores.std() * 2))                                         \n",
    "        modelScores[mod] = scores.mean()\n",
    "        \n",
    "    bestModel = max(modelScores, key=lambda k: modelScores[k])\n",
    "    bestAccuracy = max(modelScores.values())\n",
    "\n",
    "    #definitively fit the model on the train data\n",
    "    bestModel.fit(X_all, Y_all)\n",
    "    return bestModel, bestAccuracy\n",
    "    \n",
    "bestModel, bestAccuracy = testModels(df_train, ['GrLivArea', 'TotalBsmtSF', 'OverallQual'], 'SalePrice')"
   ]
  },
  {
   "cell_type": "code",
   "execution_count": 19,
   "metadata": {
    "ExecuteTime": {
     "end_time": "2018-04-06T14:12:05.503539Z",
     "start_time": "2018-04-06T14:12:05.495493Z"
    }
   },
   "outputs": [],
   "source": [
    "def submit(model, df, features, submissionName):\n",
    "    y_pred = model.predict(df[features])\n",
    "    df_submission = pd.DataFrame(index=df.index)\n",
    "    df_submission['SalePrice'] = y_pred\n",
    "    df_submission.to_csv('submission.csv', header=True)\n",
    "    df_submission.head()\n",
    "    #!kaggle competitions submit -c house-prices-advanced-regression-techniques -f submission.csv -m str(submissionName)"
   ]
  },
  {
   "cell_type": "markdown",
   "metadata": {},
   "source": [
    "## Test Models 1 (3 columns)"
   ]
  },
  {
   "cell_type": "code",
   "execution_count": 20,
   "metadata": {
    "ExecuteTime": {
     "end_time": "2018-04-06T14:12:08.233238Z",
     "start_time": "2018-04-06T14:12:07.731603Z"
    }
   },
   "outputs": [
    {
     "data": {
      "image/png": "[encoded data removed]",
      "text/plain": [
       "<matplotlib.figure.Figure at 0x258178626a0>"
      ]
     },
     "metadata": {},
     "output_type": "display_data"
    }
   ],
   "source": [
    "fig, axes = plt.subplots(figsize=(20, 6), nrows=1, ncols=3)\n",
    "#scatter plot grlivarea/saleprice\n",
    "data = pd.concat([df_train['SalePrice'], df_train['GrLivArea']], axis=1)\n",
    "data.plot.scatter(x='GrLivArea', y='SalePrice', ylim=(0,800000),ax=axes[0])\n",
    "\n",
    "#scatter plot totalbsmtsf/saleprice\n",
    "data = pd.concat([df_train['SalePrice'], df_train['TotalBsmtSF']], axis=1)\n",
    "data.plot.scatter(x='TotalBsmtSF', y='SalePrice', ylim=(0,800000),ax=axes[1]);\n",
    "\n",
    "#box plot overallqual/saleprice\n",
    "data = pd.concat([df_train['SalePrice'], df_train['OverallQual']], axis=1)\n",
    "fig = sb.boxplot(x='OverallQual', y=\"SalePrice\", data=data, ax=axes[2])\n"
   ]
  },
  {
   "cell_type": "code",
   "execution_count": 26,
   "metadata": {
    "ExecuteTime": {
     "end_time": "2018-04-06T14:14:08.464146Z",
     "start_time": "2018-04-06T14:14:07.641887Z"
    }
   },
   "outputs": [
    {
     "name": "stdout",
     "output_type": "stream",
     "text": [
      "LinearRegression               [0.78658694 0.75766871 0.759937   0.74717044 0.61176451] Accuracy: 0.73 (+/- 0.12)\n",
      "RidgeCV                        [0.78642301 0.7578579  0.75916488 0.74739219 0.61350233] Accuracy: 0.73 (+/- 0.12)\n",
      "Lasso                          [0.78658595 0.7576691  0.75993228 0.7471705  0.61177299] Accuracy: 0.73 (+/- 0.12)\n",
      "ElasticNetCV                   [0.04708509 0.04650564 0.03840331 0.03073902 0.04395478] Accuracy: 0.04 (+/- 0.01)\n",
      "DecisionTreeRegressor          [0.63390064 0.55490345 0.76491829 0.74973775 0.69499348] Accuracy: 0.68 (+/- 0.16)\n",
      "GradientBoostingRegressor      [0.78885661 0.71303187 0.8576622  0.82342923 0.83733468] Accuracy: 0.80 (+/- 0.10)\n",
      "RandomForestRegressor          [0.77114352 0.7356862  0.81502894 0.80971169 0.81028674] Accuracy: 0.79 (+/- 0.06)\n"
     ]
    },
    {
     "data": {
      "text/plain": [
       "(GradientBoostingRegressor(alpha=0.9, criterion='friedman_mse', init=None,\n",
       "              learning_rate=0.1, loss='ls', max_depth=3, max_features=None,\n",
       "              max_leaf_nodes=None, min_impurity_decrease=0.0,\n",
       "              min_impurity_split=None, min_samples_leaf=1,\n",
       "              min_samples_split=2, min_weight_fraction_leaf=0.0,\n",
       "              n_estimators=100, presort='auto', random_state=None,\n",
       "              subsample=1.0, verbose=0, warm_start=False), 0.8040629186153568)"
      ]
     },
     "execution_count": 26,
     "metadata": {},
     "output_type": "execute_result"
    }
   ],
   "source": [
    "simplestFeatures = ['GrLivArea', 'OverallQual', \"TotalBsmtSF\"]\n",
    "className = 'SalePrice'\n",
    "\n",
    "testModels(df_train, simplestFeatures, className)"
   ]
  },
  {
   "cell_type": "code",
   "execution_count": 24,
   "metadata": {
    "ExecuteTime": {
     "end_time": "2018-04-06T14:13:40.686958Z",
     "start_time": "2018-04-06T14:13:40.574647Z"
    }
   },
   "outputs": [
    {
     "name": "stdout",
     "output_type": "stream",
     "text": [
      "MSSubClass      int64     MSZoning        object    LotFrontage     float64   : Numeric, add missing values\n",
      "LotArea         int64     Street          object    Alley           object    LotShape        object    LandContour     object    Utilities       object    LotConfig       object    LandSlope       object    Neighborhood    object    Condition1      object    Condition2      object    BldgType        object    HouseStyle      object    OverallQual     int64     OverallCond     int64     YearBuilt       int64     YearRemodAdd    int64     RoofStyle       object    RoofMatl        object    Exterior1st     object    Exterior2nd     object    MasVnrType      object    MasVnrArea      float64   : Numeric, add missing values\n",
      "ExterQual       object    ExterCond       object    Foundation      object    BsmtQual        object    BsmtCond        object    BsmtExposure    object    BsmtFinType1    object    BsmtFinSF1      float64   : Numeric, add missing values\n",
      "BsmtFinType2    object    BsmtFinSF2      float64   : Numeric, add missing values\n",
      "BsmtUnfSF       float64   : Numeric, add missing values\n",
      "TotalBsmtSF     float64   : Numeric, add missing values\n",
      "Heating         object    HeatingQC       object    CentralAir      object    Electrical      object    1stFlrSF        int64     2ndFlrSF        int64     LowQualFinSF    int64     GrLivArea       int64     BsmtFullBath    float64   : Numeric, add missing values\n",
      "BsmtHalfBath    float64   : Numeric, add missing values\n",
      "FullBath        int64     HalfBath        int64     BedroomAbvGr    int64     KitchenAbvGr    int64     KitchenQual     object    TotRmsAbvGrd    int64     Functional      object    Fireplaces      int64     FireplaceQu     object    GarageType      object    GarageYrBlt     float64   : Numeric, add missing values\n",
      "GarageFinish    object    GarageCars      float64   : Numeric, add missing values\n",
      "GarageArea      float64   : Numeric, add missing values\n",
      "GarageQual      object    GarageCond      object    PavedDrive      object    WoodDeckSF      int64     OpenPorchSF     int64     EnclosedPorch   int64     3SsnPorch       int64     ScreenPorch     int64     PoolArea        int64     PoolQC          object    Fence           object    MiscFeature     object    : Not a number, fill with None\n",
      "MiscVal         int64     MoSold          int64     YrSold          int64     SaleType        object    SaleCondition   object    "
     ]
    },
    {
     "ename": "ValueError",
     "evalue": "Input contains NaN, infinity or a value too large for dtype('float32').",
     "output_type": "error",
     "traceback": [
      "\u001b[1;31m---------------------------------------------------------------------------\u001b[0m",
      "\u001b[1;31mValueError\u001b[0m                                Traceback (most recent call last)",
      "\u001b[1;32m<ipython-input-24-9b50d0e36296>\u001b[0m in \u001b[0;36m<module>\u001b[1;34m()\u001b[0m\n\u001b[0;32m      2\u001b[0m \u001b[0mdf_test\u001b[0m \u001b[1;33m=\u001b[0m \u001b[0mcleanData\u001b[0m\u001b[1;33m(\u001b[0m\u001b[0mdf_test\u001b[0m\u001b[1;33m,\u001b[0m \u001b[0mverbose\u001b[0m \u001b[1;33m=\u001b[0m \u001b[1;32mTrue\u001b[0m\u001b[1;33m)\u001b[0m\u001b[1;33m\u001b[0m\u001b[0m\n\u001b[0;32m      3\u001b[0m \u001b[1;33m\u001b[0m\u001b[0m\n\u001b[1;32m----> 4\u001b[1;33m \u001b[0msubmit\u001b[0m\u001b[1;33m(\u001b[0m\u001b[0mbestModel\u001b[0m\u001b[1;33m,\u001b[0m \u001b[0mdf_test_raw\u001b[0m\u001b[1;33m,\u001b[0m \u001b[0msimplestFeatures\u001b[0m\u001b[1;33m,\u001b[0m \u001b[0mclassName\u001b[0m\u001b[1;33m)\u001b[0m\u001b[1;33m\u001b[0m\u001b[0m\n\u001b[0m",
      "\u001b[1;32m<ipython-input-19-8aee51ac9c91>\u001b[0m in \u001b[0;36msubmit\u001b[1;34m(model, df, features, submissionName)\u001b[0m\n\u001b[0;32m      1\u001b[0m \u001b[1;32mdef\u001b[0m \u001b[0msubmit\u001b[0m\u001b[1;33m(\u001b[0m\u001b[0mmodel\u001b[0m\u001b[1;33m,\u001b[0m \u001b[0mdf\u001b[0m\u001b[1;33m,\u001b[0m \u001b[0mfeatures\u001b[0m\u001b[1;33m,\u001b[0m \u001b[0msubmissionName\u001b[0m\u001b[1;33m)\u001b[0m\u001b[1;33m:\u001b[0m\u001b[1;33m\u001b[0m\u001b[0m\n\u001b[1;32m----> 2\u001b[1;33m     \u001b[0my_pred\u001b[0m \u001b[1;33m=\u001b[0m \u001b[0mmodel\u001b[0m\u001b[1;33m.\u001b[0m\u001b[0mpredict\u001b[0m\u001b[1;33m(\u001b[0m\u001b[0mdf\u001b[0m\u001b[1;33m[\u001b[0m\u001b[0mfeatures\u001b[0m\u001b[1;33m]\u001b[0m\u001b[1;33m)\u001b[0m\u001b[1;33m\u001b[0m\u001b[0m\n\u001b[0m\u001b[0;32m      3\u001b[0m     \u001b[0mdf_submission\u001b[0m \u001b[1;33m=\u001b[0m \u001b[0mpd\u001b[0m\u001b[1;33m.\u001b[0m\u001b[0mDataFrame\u001b[0m\u001b[1;33m(\u001b[0m\u001b[0mindex\u001b[0m\u001b[1;33m=\u001b[0m\u001b[0mdf\u001b[0m\u001b[1;33m.\u001b[0m\u001b[0mindex\u001b[0m\u001b[1;33m)\u001b[0m\u001b[1;33m\u001b[0m\u001b[0m\n\u001b[0;32m      4\u001b[0m     \u001b[0mdf_submission\u001b[0m\u001b[1;33m[\u001b[0m\u001b[1;34m'SalePrice'\u001b[0m\u001b[1;33m]\u001b[0m \u001b[1;33m=\u001b[0m \u001b[0my_pred\u001b[0m\u001b[1;33m\u001b[0m\u001b[0m\n\u001b[0;32m      5\u001b[0m     \u001b[0mdf_submission\u001b[0m\u001b[1;33m.\u001b[0m\u001b[0mto_csv\u001b[0m\u001b[1;33m(\u001b[0m\u001b[1;34m'submission.csv'\u001b[0m\u001b[1;33m,\u001b[0m \u001b[0mheader\u001b[0m\u001b[1;33m=\u001b[0m\u001b[1;32mTrue\u001b[0m\u001b[1;33m)\u001b[0m\u001b[1;33m\u001b[0m\u001b[0m\n",
      "\u001b[1;32m~\\Anaconda3\\lib\\site-packages\\sklearn\\ensemble\\gradient_boosting.py\u001b[0m in \u001b[0;36mpredict\u001b[1;34m(self, X)\u001b[0m\n\u001b[0;32m   1889\u001b[0m             \u001b[0mThe\u001b[0m \u001b[0mpredicted\u001b[0m \u001b[0mvalues\u001b[0m\u001b[1;33m.\u001b[0m\u001b[1;33m\u001b[0m\u001b[0m\n\u001b[0;32m   1890\u001b[0m         \"\"\"\n\u001b[1;32m-> 1891\u001b[1;33m         \u001b[0mX\u001b[0m \u001b[1;33m=\u001b[0m \u001b[0mcheck_array\u001b[0m\u001b[1;33m(\u001b[0m\u001b[0mX\u001b[0m\u001b[1;33m,\u001b[0m \u001b[0mdtype\u001b[0m\u001b[1;33m=\u001b[0m\u001b[0mDTYPE\u001b[0m\u001b[1;33m,\u001b[0m \u001b[0morder\u001b[0m\u001b[1;33m=\u001b[0m\u001b[1;34m\"C\"\u001b[0m\u001b[1;33m,\u001b[0m  \u001b[0maccept_sparse\u001b[0m\u001b[1;33m=\u001b[0m\u001b[1;34m'csr'\u001b[0m\u001b[1;33m)\u001b[0m\u001b[1;33m\u001b[0m\u001b[0m\n\u001b[0m\u001b[0;32m   1892\u001b[0m         \u001b[1;32mreturn\u001b[0m \u001b[0mself\u001b[0m\u001b[1;33m.\u001b[0m\u001b[0m_decision_function\u001b[0m\u001b[1;33m(\u001b[0m\u001b[0mX\u001b[0m\u001b[1;33m)\u001b[0m\u001b[1;33m.\u001b[0m\u001b[0mravel\u001b[0m\u001b[1;33m(\u001b[0m\u001b[1;33m)\u001b[0m\u001b[1;33m\u001b[0m\u001b[0m\n\u001b[0;32m   1893\u001b[0m \u001b[1;33m\u001b[0m\u001b[0m\n",
      "\u001b[1;32m~\\Anaconda3\\lib\\site-packages\\sklearn\\utils\\validation.py\u001b[0m in \u001b[0;36mcheck_array\u001b[1;34m(array, accept_sparse, dtype, order, copy, force_all_finite, ensure_2d, allow_nd, ensure_min_samples, ensure_min_features, warn_on_dtype, estimator)\u001b[0m\n\u001b[0;32m    451\u001b[0m                              % (array.ndim, estimator_name))\n\u001b[0;32m    452\u001b[0m         \u001b[1;32mif\u001b[0m \u001b[0mforce_all_finite\u001b[0m\u001b[1;33m:\u001b[0m\u001b[1;33m\u001b[0m\u001b[0m\n\u001b[1;32m--> 453\u001b[1;33m             \u001b[0m_assert_all_finite\u001b[0m\u001b[1;33m(\u001b[0m\u001b[0marray\u001b[0m\u001b[1;33m)\u001b[0m\u001b[1;33m\u001b[0m\u001b[0m\n\u001b[0m\u001b[0;32m    454\u001b[0m \u001b[1;33m\u001b[0m\u001b[0m\n\u001b[0;32m    455\u001b[0m     \u001b[0mshape_repr\u001b[0m \u001b[1;33m=\u001b[0m \u001b[0m_shape_repr\u001b[0m\u001b[1;33m(\u001b[0m\u001b[0marray\u001b[0m\u001b[1;33m.\u001b[0m\u001b[0mshape\u001b[0m\u001b[1;33m)\u001b[0m\u001b[1;33m\u001b[0m\u001b[0m\n",
      "\u001b[1;32m~\\Anaconda3\\lib\\site-packages\\sklearn\\utils\\validation.py\u001b[0m in \u001b[0;36m_assert_all_finite\u001b[1;34m(X)\u001b[0m\n\u001b[0;32m     42\u001b[0m             and not np.isfinite(X).all()):\n\u001b[0;32m     43\u001b[0m         raise ValueError(\"Input contains NaN, infinity\"\n\u001b[1;32m---> 44\u001b[1;33m                          \" or a value too large for %r.\" % X.dtype)\n\u001b[0m\u001b[0;32m     45\u001b[0m \u001b[1;33m\u001b[0m\u001b[0m\n\u001b[0;32m     46\u001b[0m \u001b[1;33m\u001b[0m\u001b[0m\n",
      "\u001b[1;31mValueError\u001b[0m: Input contains NaN, infinity or a value too large for dtype('float32')."
     ]
    }
   ],
   "source": [
    "df_test = df_test_raw.copy()\n",
    "df_test = cleanData(df_test, verbose = True)\n",
    "\n",
    "submit(bestModel, df_test_raw, simplestFeatures, className)"
   ]
  },
  {
   "cell_type": "markdown",
   "metadata": {},
   "source": [
    "## Data Preprocessing"
   ]
  },
  {
   "cell_type": "code",
   "execution_count": null,
   "metadata": {},
   "outputs": [],
   "source": [
    "df_train_raw = pd.read_csv(\"train.csv\", index_col=0)\n",
    "df_train_raw.head()"
   ]
  },
  {
   "cell_type": "code",
   "execution_count": null,
   "metadata": {},
   "outputs": [],
   "source": [
    "df_train['PoolArea'].unique()"
   ]
  },
  {
   "cell_type": "markdown",
   "metadata": {},
   "source": [
    "## Test Models 2 (6 columns)"
   ]
  },
  {
   "cell_type": "code",
   "execution_count": null,
   "metadata": {},
   "outputs": [],
   "source": [
    "df_train = preprocessData(df_train)"
   ]
  },
  {
   "cell_type": "code",
   "execution_count": null,
   "metadata": {},
   "outputs": [],
   "source": [
    "#box plot overallqual/saleprice\n",
    "for var in ['GarageCars', 'ExterQualCode', 'KitchenQualCode']:\n",
    "    data = pd.concat([df_train['SalePrice'], df_train[var]], axis=1)\n",
    "    f, ax = plt.subplots(figsize=(8, 6))\n",
    "    fig = sb.boxplot(x=var, y=\"SalePrice\", data=data)\n",
    "    fig.axis(ymin=0, ymax=800000);"
   ]
  },
  {
   "cell_type": "code",
   "execution_count": null,
   "metadata": {},
   "outputs": [],
   "source": [
    "simplestFeatures = ['GrLivArea', 'OverallQual', \"TotalBsmtSF\", 'GarageCars', 'ExterQualCode', 'KitchenQualCode']\n",
    "className = 'SalePrice'\n",
    "\n",
    "\n",
    "testModels(df_train, simplestFeatures, className)"
   ]
  },
  {
   "cell_type": "markdown",
   "metadata": {},
   "source": [
    "## Correlation"
   ]
  },
  {
   "cell_type": "code",
   "execution_count": null,
   "metadata": {},
   "outputs": [],
   "source": [
    "df_train_raw = pd.read_csv('train.csv', index_col=0)\n",
    "df_train = df_train_raw.copy()\n",
    "corr_matrix = df_train.corr().abs()\n",
    "#the matrix is symmetric so we need to extract upper triangle matrix without diagonal (k = 1)\n",
    "os = (corr_matrix.where(np.triu(np.ones(corr_matrix.shape), k=1).astype(np.bool)).stack().sort_values(ascending=False))\n",
    "os[:20]"
   ]
  },
  {
   "cell_type": "code",
   "execution_count": null,
   "metadata": {},
   "outputs": [],
   "source": [
    "corrmat = df_train.corr().abs()\n",
    "cols = corrmat.nlargest(20, 'SalePrice')['SalePrice'].index\n",
    "corrmat = corrmat.nlargest(20, 'SalePrice')[cols]\n",
    "plt.figure(figsize=(15, 15))\n",
    "sb.clustermap(corrmat,annot=True,square=True,center=0,fmt='.2f',yticklabels=cols.values,xticklabels=cols.values)\n",
    "plt.show()"
   ]
  },
  {
   "cell_type": "code",
   "execution_count": null,
   "metadata": {},
   "outputs": [],
   "source": [
    "df_train.tail()"
   ]
  },
  {
   "cell_type": "code",
   "execution_count": null,
   "metadata": {},
   "outputs": [],
   "source": [
    "nbFeatures = 20\n",
    "className = 'SalePrice'"
   ]
  },
  {
   "cell_type": "code",
   "execution_count": null,
   "metadata": {},
   "outputs": [],
   "source": [
    "df_train = preprocessData(df_train)\n",
    "Y = df_train[className]\n",
    "X = df_train.drop(className, axis=1)\n",
    "\n",
    "# Build a forest and compute the feature importances\n",
    "forest = ExtraTreesRegressor(n_estimators=250, random_state=0)\n",
    "forest.fit(X, Y)\n",
    "\n",
    "importances = forest.feature_importances_\n",
    "std = np.std([tree.feature_importances_ for tree in forest.estimators_], axis=0)\n",
    "indices = np.argsort(importances)[::-1]\n",
    "\n",
    "# Print the feature ranking\n",
    "print(\"Feature ranking (\"+str(nbFeatures)+\" most important):\")\n",
    "\n",
    "for f in range(nbFeatures):\n",
    "    print(\"%d. feature %d (%s) (%f)\" %\n",
    "          (f + 1, indices[f], X.columns[indices[f]], importances[indices[f]]))"
   ]
  },
  {
   "cell_type": "code",
   "execution_count": null,
   "metadata": {},
   "outputs": [],
   "source": [
    "# Plot the feature importances of the forest\n",
    "plt.figure(figsize=(20, 9))\n",
    "plt.title(\"Feature importances\")\n",
    "\n",
    "plt.subplot(1, 2, 1)\n",
    "plt.bar(range(nbFeatures),importances[indices[:nbFeatures]],color=\"r\",align=\"center\")\n",
    "plt.xticks(range(nbFeatures), X.columns[indices[:nbFeatures]], rotation=90)\n",
    "plt.xlim([-1, nbFeatures])\n",
    "\n",
    "plt.subplot(1, 2, 2)\n",
    "plt.pie(importances[indices], labels=X.columns[indices], rotatelabels=True)\n",
    "plt.show()"
   ]
  },
  {
   "cell_type": "markdown",
   "metadata": {},
   "source": [
    "## Test Model 3 (20 most important features)"
   ]
  },
  {
   "cell_type": "code",
   "execution_count": null,
   "metadata": {},
   "outputs": [],
   "source": [
    "featuresNames = list(X.columns[indices[:nbFeatures]])\n",
    "print(featuresNames)\n",
    "bestModel, bestAccuracy = testModels(df_train, featuresNames, 'SalePrice')"
   ]
  },
  {
   "cell_type": "code",
   "execution_count": null,
   "metadata": {},
   "outputs": [],
   "source": [
    "print(bestModel)\n",
    "submit(bestModel, df_test, featuresNames, \"Best 20\")"
   ]
  },
  {
   "cell_type": "markdown",
   "metadata": {},
   "source": [
    "## Outliers detection"
   ]
  },
  {
   "cell_type": "code",
   "execution_count": null,
   "metadata": {},
   "outputs": [],
   "source": [
    "df_train_raw = pd.read_csv('train.csv', index_col=0)\n",
    "df_train = df_train_raw.copy()\n",
    "df_train = preprocessData(df_train)\n",
    "df_train.head()"
   ]
  },
  {
   "cell_type": "code",
   "execution_count": null,
   "metadata": {},
   "outputs": [],
   "source": [
    "from sklearn.ensemble import IsolationForest\n",
    "forest = IsolationForest(max_samples=len(df_train))\n",
    "forest.fit(df_train[list(numericColumns)])\n",
    "\n",
    "df_train['Outliers'] = forest.predict(df_train[list(numericColumns)])\n",
    "df_train['Outliers'] = df_train['Outliers'].map({1:False, -1:True})\n",
    "df_train[df_train['Outliers']]"
   ]
  },
  {
   "cell_type": "markdown",
   "metadata": {},
   "source": [
    "## Model training"
   ]
  },
  {
   "cell_type": "code",
   "execution_count": null,
   "metadata": {},
   "outputs": [],
   "source": [
    "# numericfeatures only\n",
    "numericFeatures = [\"LotFrontage\", \"LotArea\", \"MasVnrArea\", \"BsmtFinSF1\", \"BsmtFinSF2\",\n",
    "                    \"BsmtUnfSF\", \"TotalBsmtSF\", \"1stFlrSF\", \"2ndFlrSF\", \"LowQualFinSF\",\n",
    "                    \"GrLivArea\", \"BedroomAbvGr\", \"KitchenAbvGr\", \"TotRmsAbvGrd\", \"Fireplaces\",\n",
    "                    \"GarageYrBlt\", \"GarageCars\", \"GarageArea\", \"WoodDeckSF\", \"OpenPorchSF\",\n",
    "                    \"EnclosedPorch\", \"3SsnPorch\", \"ScreenPorch\", \"PoolArea\", \"MiscVal\",\n",
    "                    'DateSold']\n",
    "\n",
    "simplestFeatures = ['GrLivArea', 'OverallQual', \"TotalBsmtSF\"]\n",
    "\n",
    "simplestFeatures2 = simplestFeatures + ['GarageCars', 'ExterQualCode', 'KitchenQualCode']\n",
    "\n",
    "df_train = df_train_raw.copy()\n",
    "df_train = preprocessData(df_train, dropUseless=False, verbose=False)\n",
    "df_train.head()"
   ]
  },
  {
   "cell_type": "markdown",
   "metadata": {},
   "source": [
    "## Submission"
   ]
  },
  {
   "cell_type": "code",
   "execution_count": null,
   "metadata": {},
   "outputs": [],
   "source": [
    "## prepare the df_test dataframe\n",
    "df_test = pd.read_csv('test.csv', index_col=0)\n",
    "df_test = preprocessData(df_test, dropUseless=False)\n",
    "df_test.head()"
   ]
  },
  {
   "cell_type": "code",
   "execution_count": null,
   "metadata": {},
   "outputs": [],
   "source": [
    "submit(bestModel, df_test, simplestFeatures2)"
   ]
  },
  {
   "cell_type": "code",
   "execution_count": null,
   "metadata": {},
   "outputs": [],
   "source": [
    "from sklearn.linear_model import LinearRegression\n",
    "train = pd.read_csv(\"train.csv\")\n",
    "Xall = train[['GrLivArea','OverallQual','TotalBsmtSF']]\n",
    "Yall = train['SalePrice']\n",
    "\n",
    "Xtrain, Xvalid, Ytrain, Yvalid = ms.train_test_split(Xall,Yall, test_size = 0.2)\n",
    "model = LinearRegression()\n",
    "results = model.fit(Xtrain, Ytrain)\n",
    "predict = model.predict(Xvalid)\n",
    "r2_score(Yvalid, predict)"
   ]
  },
  {
   "cell_type": "code",
   "execution_count": null,
   "metadata": {},
   "outputs": [],
   "source": []
  }
 ],
 "metadata": {
  "kernelspec": {
   "display_name": "Python 3",
   "language": "python",
   "name": "python3"
  },
  "language_info": {
   "codemirror_mode": {
    "name": "ipython",
    "version": 3
   },
   "file_extension": ".py",
   "mimetype": "text/x-python",
   "name": "python",
   "nbconvert_exporter": "python",
   "pygments_lexer": "ipython3",
   "version": "3.6.4"
  },
  "varInspector": {
   "cols": {
    "lenName": 16,
    "lenType": 16,
    "lenVar": 40
   },
   "kernels_config": {
    "python": {
     "delete_cmd_postfix": "",
     "delete_cmd_prefix": "del ",
     "library": "var_list.py",
     "varRefreshCmd": "print(var_dic_list())"
    },
    "r": {
     "delete_cmd_postfix": ") ",
     "delete_cmd_prefix": "rm(",
     "library": "var_list.r",
     "varRefreshCmd": "cat(var_dic_list()) "
    }
   },
   "types_to_exclude": [
    "module",
    "function",
    "builtin_function_or_method",
    "instance",
    "_Feature"
   ],
   "window_display": false
  }
 },
 "nbformat": 4,
 "nbformat_minor": 2
}
